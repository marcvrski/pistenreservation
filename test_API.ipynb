{
 "cells": [
  {
   "cell_type": "code",
   "execution_count": null,
   "metadata": {},
   "outputs": [
    {
     "name": "stdout",
     "output_type": "stream",
     "text": [
      "Failed to obtain access token: {'error': 'invalid_grant', 'error_description': 'Invalid username and password combination'}\n"
     ]
    }
   ],
   "source": [
    "import requests\n",
    "\n",
    "def get_access_token():\n",
    "    url = \"https://api.swiss-ski.ch/auth/token\"\n",
    "    headers = {\n",
    "        \"Content-Type\": \"application/x-www-form-urlencoded\"\n",
    "    }\n",
    "    data = {\n",
    "        \"grant_type\": \"password\",\n",
    "        \"client_id\": \"rest.force8.coach\",\n",
    "        \"client_secret\": \"24A6bb_FBxMfc7\",\n",
    "        \"username\": \"marc.guerber@swiss-ski.ch\",\n",
    "        \"password\": \"EAuztqBLj4UAu82\"\n",
    "    }\n",
    "    response = requests.post(url, headers=headers, data=data)\n",
    "    return response.json()\n",
    "\n",
    "def make_api_request(access_token):\n",
    "    url = \"https://api.swiss-ski.ch/api/rest/request/get/club_athlete_details\"\n",
    "    headers = {\n",
    "        \"Authorization\": f\"Bearer {access_token}\",\n",
    "        \"Content-Type\": \"application/json\"\n",
    "    }\n",
    "    data = {\n",
    "        \"id_club\": \"6\",\n",
    "        \"page\": \"1\"\n",
    "    }\n",
    "    response = requests.post(url, headers=headers, json=data)\n",
    "    return response.json()\n",
    "\n",
    "\n",
    "# Example usage:\n",
    "token_response = get_access_token()\n",
    "if 'access_token' in token_response:\n",
    "    api_response = make_api_request(token_response['access_token'])\n",
    "    # Loop through each entry and print 'first_name'\n",
    "    for athlete in api_response:  # Assuming api_response is directly the list\n",
    "        print(\"First Name:\", athlete.get('first_name'))\n",
    "else:\n",
    "    print(\"Failed to obtain access token:\", token_response)\n",
    "\n"
   ]
  },
  {
   "cell_type": "code",
   "execution_count": null,
   "metadata": {},
   "outputs": [],
   "source": []
  }
 ],
 "metadata": {
  "kernelspec": {
   "display_name": "SWISSSKI",
   "language": "python",
   "name": "python3"
  },
  "language_info": {
   "codemirror_mode": {
    "name": "ipython",
    "version": 3
   },
   "file_extension": ".py",
   "mimetype": "text/x-python",
   "name": "python",
   "nbconvert_exporter": "python",
   "pygments_lexer": "ipython3",
   "version": "3.12.9"
  }
 },
 "nbformat": 4,
 "nbformat_minor": 2
}
